{
 "cells": [
  {
   "cell_type": "markdown",
   "metadata": {},
   "source": [
    "## References\n",
    "\n",
    "- [DDSファイルを自力で読んでみよう](https://techblog.sega.jp/entry/2016/12/26/100000)\n",
    "- [DirectX 11の圧縮フォーマットBC1～BC7について（前編）](https://www.webtech.co.jp/blog/optpix_labs/format/6993/)\n",
    "\n",
    "- [DDSフォーマット](https://dench.flatlib.jp/ddsformat)\n",
    "\n",
    "- [Direct3D10のマニュアル](https://learn.microsoft.com/en-us/windows/win32/direct3d10/d3d10-graphics-programming-guide-resources-block-compression#bc4)\n",
    "  - 多分これが一番正確\n",
    "\n",
    "- [Switch Toolboxの実装](https://github.com/KillzXGaming/Switch-Toolbox/blob/5b80a3d0f8ccadc4cea494c6037b07b4fa3032c5/Switch_Toolbox_Library/FileFormats/DDSCompressor.cs#L185)"
   ]
  },
  {
   "cell_type": "code",
   "execution_count": null,
   "metadata": {},
   "outputs": [],
   "source": [
    "%cd ../"
   ]
  },
  {
   "cell_type": "code",
   "execution_count": null,
   "metadata": {},
   "outputs": [],
   "source": [
    "import os\n",
    "import struct\n",
    "from pathlib import Path\n",
    "import numpy as np\n",
    "import matplotlib.pyplot as plt\n",
    "import cv2"
   ]
  },
  {
   "cell_type": "code",
   "execution_count": null,
   "metadata": {},
   "outputs": [],
   "source": [
    "class DDS:\n",
    "    HEADER_SIZE = 128\n",
    "    WIDTH_OFFSET = 0x10\n",
    "    HEIGHT_OFFSET = 0x0C\n",
    "    FORMAT_OFFSET = 0x54\n",
    "\n",
    "    HEADER_STRUCT = {\n",
    "        'dwMagic': 'cccc',          # always 0x20534444 (' SDD')\n",
    "        'dwSize': 'I',              # always 124\n",
    "        'dwFlags': 'I',             # ヘッダ内の有効な情報 DDSD_* の組み合わせ\n",
    "        'dwHeight': 'I',            # 画像の高さ x size\n",
    "        'dwWidth': 'I',             # 画像の幅   y size\n",
    "        'dwPitchOrLinearSize': 'I', # 横1 line の byte 数 (pitch) または 1面分の byte 数 (linearsize)\n",
    "        'dwDepth': 'I',             # 画像の奥行き z size (Volume Texture 用)\n",
    "        'dwMipMapCount': 'I',       # 含まれている mipmap レベル数\n",
    "        'dwReserved1': 'I'*11,\n",
    "        'dwPfSize': 'I',            # 常に 32\n",
    "        'dwPfFlags': 'cccc',        # pixel フォーマットを表す DDPF_* の組み合わせ\n",
    "        'dwFourCC': 'cccc',         # フォーマットが FourCC で表現される場合に使用する。 # DX10 拡張ヘッダが存在する場合は 'DX10' (0x30315844) が入る。\n",
    "        'dwRGBBitCount': 'I',       # 1 pixel の bit 数\n",
    "        'dwRBitMask': 'I',          # RGB format 時の mask\n",
    "        'dwGBitMask': 'I',          # RGB format 時の mask\n",
    "        'dwBBitMask': 'I',          # RGB format 時の mask\n",
    "        'dwRGBAlphaBitMask': 'I',   # RGB format 時の mask\n",
    "        'dwCaps': 'I',              # mipmap 等のフラグ指定用\n",
    "        'dwCaps2': 'I',             # cube/volume texture 等のフラグ指定用\n",
    "        'dwReservedCaps2': 'I'*2,\n",
    "        'dwReserved2': 'I'\n",
    "    }\n",
    "\n",
    "    def __init__(self, filepath: str) -> None:\n",
    "        self.filepath = Path(filepath)\n",
    "        if not self.filepath.exists():\n",
    "            raise FileNotFoundError(f'{filepath} is not exists, or not file')\n",
    "        if self.filepath.is_dir():\n",
    "            raise IsADirectoryError(f'{filepath} is a directory.')\n",
    "\n",
    "        self.data: bytes = self.filepath.read_bytes()\n",
    "\n",
    "        dds_header = struct.Struct(\"<\"+''.join(self.HEADER_STRUCT.values()))\n",
    "        opts = dds_header.unpack_from(self.data, 0)\n",
    "        self.opt = {}\n",
    "        index = 0\n",
    "        for key, format in self.HEADER_STRUCT.items():\n",
    "            res = []\n",
    "            for c in format:\n",
    "                if c == 'c':\n",
    "                    res.append(chr(int.from_bytes(opts[index])))\n",
    "                else:\n",
    "                    res.append(opts[index])\n",
    "                index += 1\n",
    "            if len(res) == 1:\n",
    "                self.opt[key] = res[0]\n",
    "            elif format in {'cccc', '4c'}:\n",
    "                self.opt[key] = ''.join(res)\n",
    "            else:\n",
    "                self.opt[key] = res\n",
    "\n",
    "        self._start_index = self.HEADER_SIZE + (20 if self.opt['dwFourCC'] == 'DX10' else 0)\n",
    "\n",
    "    def load_chunks(self) -> bytes:\n",
    "        pass\n",
    "\n",
    "    @property\n",
    "    def header(self) -> bytes:\n",
    "        return self.data[:self.HEADER_SIZE]\n",
    "\n",
    "    @property\n",
    "    def typeFormat(self) -> str:\n",
    "        btype = self.data[self.FORMAT_OFFSET:self.FORMAT_OFFSET+4]\n",
    "        return ''.join([chr(b) for b in btype])\n",
    "\n",
    "    @property\n",
    "    def width(self) -> int:\n",
    "        return int.from_bytes(self.data[self.WIDTH_OFFSET:self.WIDTH_OFFSET+4], byteorder='little')\n",
    "\n",
    "    @property\n",
    "    def height(self) -> int:\n",
    "        return int.from_bytes(self.data[self.HEIGHT_OFFSET:self.HEIGHT_OFFSET+4], byteorder='little')\n"
   ]
  },
  {
   "cell_type": "code",
   "execution_count": null,
   "metadata": {},
   "outputs": [],
   "source": [
    "dds_filepath = \"data/Sheet_0.dds\"\n",
    "dds = DDS(filepath=dds_filepath)"
   ]
  },
  {
   "cell_type": "code",
   "execution_count": null,
   "metadata": {},
   "outputs": [],
   "source": [
    "dds.opt"
   ]
  },
  {
   "cell_type": "code",
   "execution_count": null,
   "metadata": {},
   "outputs": [],
   "source": [
    "def view(data: bytes, start_offset: int = 0, upper: bool = True, show_ascii: bool = False) -> None:\n",
    "    \"\"\"print a bytes object like binary-viewer format\"\"\"\n",
    "    if type(data) is not bytes:\n",
    "        print(\"[ERROR] argument 'data' is not bytes object.\")\n",
    "        return\n",
    "    data = data[start_offset:]\n",
    "    n_row = len(data) // 0x0F\n",
    "    print(n_row, \"rows\")\n",
    "    print('ADDRESS  : 00 01 02 03 04 05 06 07 08 09 0A 0B 0C 0D 0E 0F')\n",
    "    print('-' * (58 + (19 if show_ascii else 0)))\n",
    "    for i in range(n_row):\n",
    "        start = i * 0x10\n",
    "        print(f'{start:08x} : ', end=\"\")\n",
    "        d = data[start:start+0x10]\n",
    "        hexs = [f'{t:02x}' for t in d]\n",
    "        if upper:\n",
    "            hexs = [b.upper() for b in hexs]\n",
    "            print(*hexs, sep=' ', end='')\n",
    "        if show_ascii:\n",
    "            characters = [chr(t) for t in d]\n",
    "            characters = [(c if 20<=ord(c)<127 else '.') for c in characters]\n",
    "            print(\" \"*3, end=\"\")\n",
    "            print(*characters, sep=\"\")\n",
    "        else:\n",
    "            print()"
   ]
  },
  {
   "cell_type": "code",
   "execution_count": null,
   "metadata": {},
   "outputs": [],
   "source": [
    "view(dds.header, show_ascii=True)"
   ]
  },
  {
   "cell_type": "code",
   "execution_count": null,
   "metadata": {},
   "outputs": [],
   "source": [
    "def decode_bc4u_block(block: bytes, verbose: bool = False, return_numpy: bool = True):\n",
    "    if len(block) != 8:\n",
    "        raise ValueError(f'block length is required 8, not {len(block)}.')\n",
    "    p0 = block[0]\n",
    "    p1 = block[1]\n",
    "    if verbose:\n",
    "        print(\"代表値0:\", p0)\n",
    "        print(\"代表値1:\", p1)\n",
    "    # dt = block[2:]\n",
    "    # Little Endianを考慮しつつ3x16 bitsを抽出\n",
    "    # ここが違う。メモを見てリトルエンディアンを生成する。\n",
    "    # 49 92 24 49 92 24 は綺麗に [001 001, ...]になる。要確認\n",
    "    dt =  block[6:8][::-1] + block[2:6][::-1]\n",
    "\n",
    "    # データ部分をビット文字列で格納\n",
    "    raw = ''.join([bin(t)[2:].zfill(8) for t in dt])\n",
    "    if verbose:\n",
    "        print(\"raw:\", ''.join([c+(' ' if i % 3 == 0 else '') for i, c in enumerate(raw, 1)]))\n",
    "\n",
    "    pixels_bits = [int(raw[i:i+3], base=2) for i in range(0, len(raw), 3)]\n",
    "\n",
    "    # Ref: https://www.webtech.co.jp/blog/optpix_labs/format/4569/\n",
    "    # BC4 UNORM interpolation\n",
    "    colors = {}\n",
    "    colors[0] = p0\n",
    "    colors[1] = p1\n",
    "    if p0 > p1:\n",
    "        # 6 interpolated color values\n",
    "        for i in range(2, 8):\n",
    "            colors[i] = (p0*(7-i+1) + p1*(i-1)) / 7\n",
    "    else:\n",
    "        # 4 interpolated color values\n",
    "        for i in range(2, 6):\n",
    "            colors[i] = (p0*(5-i+1) + p1*(i-1)) / 5\n",
    "        colors[6] = 0\n",
    "        colors[7] = 255\n",
    "\n",
    "    pixels = [colors[int(b)] for b in pixels_bits]\n",
    "\n",
    "    # pixels = [\n",
    "    #     pixels[:8][::-1] + pixels[8:][::-1]\n",
    "    # ]\n",
    "    pixels = pixels[8:][::-1] + pixels[:8][::-1]\n",
    "\n",
    "    # 予想だが、p0==1 and p1==0 の場合は処理をスキップして全部透明にしている気がする。\n",
    "    # if p0 == 1 and p1 == 0:\n",
    "    #     pixels = [0] * 16\n",
    "\n",
    "    # if p0 > p1:\n",
    "    #     pixels = [0] * 16\n",
    "    # これも予想だが、特定のパターン 010 010 011 001 001 000 100 100 010 010 011 001 001 000 100 100 の場合は白塗りにしている気がする。\n",
    "    # if raw == '010010011001001000100100010010011001001000100100':\n",
    "    #     pixels = [0] * 16\n",
    "\n",
    "\n",
    "    if verbose:\n",
    "        print(\"pixels_bits:\", pixels_bits)\n",
    "        print(pixels)\n",
    "    if return_numpy:\n",
    "        return np.array(pixels).reshape(4, 4).astype(np.uint8)\n",
    "    else:\n",
    "        return pixels\n"
   ]
  },
  {
   "cell_type": "code",
   "execution_count": null,
   "metadata": {},
   "outputs": [],
   "source": [
    "# ind = 12390\n",
    "ind = 0\n",
    "decode_bc4u_block(dds.data[dds._start_index+8*ind: dds._start_index+8*ind+8], verbose=True)"
   ]
  },
  {
   "cell_type": "code",
   "execution_count": null,
   "metadata": {},
   "outputs": [],
   "source": [
    "orig = [6, 1, 4, 6, 7, 7, 7, 4, 7, 5, 4, 6, 7, 7, 4, 7]\n",
    "print(orig)\n",
    "print(orig[8:] + orig[:8])"
   ]
  },
  {
   "cell_type": "code",
   "execution_count": null,
   "metadata": {},
   "outputs": [],
   "source": [
    "# decode all 4x4 block sequencially\n",
    "blocks = []\n",
    "for i in range(0, dds.width * dds.height // 2, 8):\n",
    "    start_index = dds._start_index + i\n",
    "    block = decode_bc4u_block(dds.data[start_index:start_index+8], return_numpy=True)\n",
    "    blocks.append(block)\n",
    "\n",
    "len(blocks)"
   ]
  },
  {
   "cell_type": "code",
   "execution_count": null,
   "metadata": {},
   "outputs": [],
   "source": [
    "s = np.array(blocks)\n",
    "n_blocks = dds.width // 4\n",
    "hs = []\n",
    "for n in range(n_blocks):\n",
    "    hs.append(np.hstack(s[n*256:n*256+256]))\n",
    "img = np.vstack(hs)"
   ]
  },
  {
   "cell_type": "code",
   "execution_count": null,
   "metadata": {},
   "outputs": [],
   "source": [
    "img"
   ]
  },
  {
   "cell_type": "code",
   "execution_count": null,
   "metadata": {},
   "outputs": [],
   "source": [
    "# img = np.random.random(16).reshape(4, 4)\n",
    "# white = np.ones(dds.width * dds.height).reshape(dds.width, dds.height).astype(np.float32)\n",
    "# white = cv2.cvtColor(white, cv2.COLOR_GRAY2RGBA)\n",
    "# white[:, :, -1] = img.astype(np.float32) / 255.\n",
    "# white = img.astype(np.float32)\n",
    "white = img\n",
    "\n",
    "fig, ax = plt.subplots(figsize=(20, 20), dpi=200)\n",
    "ax.imshow(white, cmap='gray')\n"
   ]
  },
  {
   "cell_type": "code",
   "execution_count": null,
   "metadata": {},
   "outputs": [],
   "source": [
    "cv2.imwrite('images/sample6.png', img.astype(np.uint8))"
   ]
  },
  {
   "cell_type": "code",
   "execution_count": null,
   "metadata": {},
   "outputs": [],
   "source": []
  },
  {
   "cell_type": "code",
   "execution_count": null,
   "metadata": {},
   "outputs": [],
   "source": []
  }
 ],
 "metadata": {
  "kernelspec": {
   "display_name": "Python 3",
   "language": "python",
   "name": "python3"
  },
  "language_info": {
   "codemirror_mode": {
    "name": "ipython",
    "version": 3
   },
   "file_extension": ".py",
   "mimetype": "text/x-python",
   "name": "python",
   "nbconvert_exporter": "python",
   "pygments_lexer": "ipython3",
   "version": "3.11.6"
  }
 },
 "nbformat": 4,
 "nbformat_minor": 2
}
